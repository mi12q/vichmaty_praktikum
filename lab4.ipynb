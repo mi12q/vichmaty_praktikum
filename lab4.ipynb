{
 "cells": [
  {
   "cell_type": "code",
   "execution_count": 237,
   "id": "1014ab1f-f44d-4a60-8a9d-a4d1c6f27f84",
   "metadata": {},
   "outputs": [],
   "source": [
    "import numpy as np\n",
    "import matplotlib.pyplot as plt\n",
    "import math\n",
    "import pandas as pd"
   ]
  },
  {
   "cell_type": "markdown",
   "id": "056c6381-3216-4b7e-aee5-4ea88ebd7672",
   "metadata": {},
   "source": [
    "* ### Аналитическое решение"
   ]
  },
  {
   "cell_type": "code",
   "execution_count": 238,
   "id": "d0344f64-0855-406f-94d8-b0c6906e264b",
   "metadata": {},
   "outputs": [],
   "source": [
    "def analytic_solution(x,t):\n",
    "    return math.cos(x+2*t)"
   ]
  },
  {
   "cell_type": "code",
   "execution_count": 239,
   "id": "af84cebd-5d25-4dde-bd0b-9b2dc3b4217f",
   "metadata": {},
   "outputs": [],
   "source": [
    "def analytic_points(t):\n",
    "        x1 = np.linspace(0,1,11)\n",
    "        u = []\n",
    "        for x in x1:\n",
    "                res = analytic_solution(x,t)\n",
    "                u.append(res)\n",
    "        return x1,u"
   ]
  },
  {
   "cell_type": "markdown",
   "id": "a245e90c-c76c-418d-9612-54bdb4026028",
   "metadata": {},
   "source": [
    "* ### Численное решение"
   ]
  },
  {
   "cell_type": "code",
   "execution_count": 346,
   "id": "3388be35-17b0-42b3-b7a4-46c2341038ae",
   "metadata": {},
   "outputs": [],
   "source": [
    "def solve(L,T):\n",
    "    tau = 1/T\n",
    "    h = 1/L\n",
    "    solutions = [] \n",
    "    x = np.linspace(0,1,L+1)\n",
    "    t = np.linspace(0,1,T+1)\n",
    "    u_next = lambda curr,next1,next2,next3,tau,h: curr + tau/(3*h)*(2*next3-9*next2+18*next1-11*curr)+2*(tau**2)/h**2 *(-next3+4*next2-5*next1+2*curr) + 4*tau**2/(3*h**2) * (next3-3*next2+3*next1-curr)\n",
    "    u_l0 = lambda x: math.cos(x)\n",
    "    u_Ln = lambda t: math.cos(1+2*t)\n",
    "    u = np.zeros([len(x),len(t)]); ux0 = []; uLn = []\n",
    "    for i in range(0,len(x)): \n",
    "            u[i][0] = u_l0(x[i])\n",
    "    for j in range(1,len(t)):\n",
    "            u[len(x)-1][j] = u_Ln(t[j])\n",
    "    for j in range(0,len(t)-1):\n",
    "        u[len(x)-2][j+1] = math.cos(1+2*t[j+1]) + h*math.sin(1+2*t[j+1])-h**2/2*math.cos(1+2*t[j+1])-(h**3)/6 * math.sin(1+2*t[j+1])\n",
    "        u[len(x)-3][j+1] = math.cos(1+2*t[j+1]) + 2*h*math.sin(1+2*t[j+1])-2*(h**2)*math.cos(1+2*t[j+1])-4/3*(h**3) * math.sin(1+2*t[j+1])\n",
    "        for i in range(0,len(x)-3):\n",
    "            u[i][j+1] = u_next(u[i][j],u[i+1][j],u[i+2][j],u[i+3][j],tau,h)\n",
    "    \n",
    "    setka = np.linspace(0,1,11)\n",
    "    setka = np.round(setka,15)\n",
    "    setka = list(setka)\n",
    "    x = np.round(x,15)\n",
    "    x = list(x)\n",
    "    indexes = [x.index(i) for i in setka]\n",
    "    solutions = [u[ind][len(t)-1] for ind in indexes]\n",
    "     \n",
    "    return solutions"
   ]
  },
  {
   "cell_type": "markdown",
   "id": "02323dee-5548-4192-a8d5-c18aab1fc7a6",
   "metadata": {},
   "source": [
    "* ### Таблица результатов"
   ]
  },
  {
   "cell_type": "code",
   "execution_count": 350,
   "id": "e8bce363-b6d7-4fa6-9d27-7369c52b4842",
   "metadata": {},
   "outputs": [
    {
     "data": {
      "text/html": [
       "<div>\n",
       "<style scoped>\n",
       "    .dataframe tbody tr th:only-of-type {\n",
       "        vertical-align: middle;\n",
       "    }\n",
       "\n",
       "    .dataframe tbody tr th {\n",
       "        vertical-align: top;\n",
       "    }\n",
       "\n",
       "    .dataframe thead th {\n",
       "        text-align: right;\n",
       "    }\n",
       "</style>\n",
       "<table border=\"1\" class=\"dataframe\">\n",
       "  <thead>\n",
       "    <tr style=\"text-align: right;\">\n",
       "      <th></th>\n",
       "      <th>x</th>\n",
       "      <th>u аналит.</th>\n",
       "      <th>u числ.</th>\n",
       "      <th>u числ.- u аналит.</th>\n",
       "    </tr>\n",
       "  </thead>\n",
       "  <tbody>\n",
       "    <tr>\n",
       "      <th>0</th>\n",
       "      <td>0.0000e+00</td>\n",
       "      <td>-4.1615e-01</td>\n",
       "      <td>-4.1615e-01</td>\n",
       "      <td>2.8227e-13</td>\n",
       "    </tr>\n",
       "    <tr>\n",
       "      <th>1</th>\n",
       "      <td>1.0000e-01</td>\n",
       "      <td>-5.0485e-01</td>\n",
       "      <td>-5.0485e-01</td>\n",
       "      <td>3.2585e-13</td>\n",
       "    </tr>\n",
       "    <tr>\n",
       "      <th>2</th>\n",
       "      <td>2.0000e-01</td>\n",
       "      <td>-5.8850e-01</td>\n",
       "      <td>-5.8850e-01</td>\n",
       "      <td>3.7115e-13</td>\n",
       "    </tr>\n",
       "    <tr>\n",
       "      <th>3</th>\n",
       "      <td>3.0000e-01</td>\n",
       "      <td>-6.6628e-01</td>\n",
       "      <td>-6.6628e-01</td>\n",
       "      <td>4.3088e-13</td>\n",
       "    </tr>\n",
       "    <tr>\n",
       "      <th>4</th>\n",
       "      <td>4.0000e-01</td>\n",
       "      <td>-7.3739e-01</td>\n",
       "      <td>-7.3739e-01</td>\n",
       "      <td>4.9283e-13</td>\n",
       "    </tr>\n",
       "    <tr>\n",
       "      <th>5</th>\n",
       "      <td>5.0000e-01</td>\n",
       "      <td>-8.0114e-01</td>\n",
       "      <td>-8.0114e-01</td>\n",
       "      <td>5.2203e-13</td>\n",
       "    </tr>\n",
       "    <tr>\n",
       "      <th>6</th>\n",
       "      <td>6.0000e-01</td>\n",
       "      <td>-8.5689e-01</td>\n",
       "      <td>-8.5689e-01</td>\n",
       "      <td>5.6466e-13</td>\n",
       "    </tr>\n",
       "    <tr>\n",
       "      <th>7</th>\n",
       "      <td>7.0000e-01</td>\n",
       "      <td>-9.0407e-01</td>\n",
       "      <td>-9.0407e-01</td>\n",
       "      <td>6.0696e-13</td>\n",
       "    </tr>\n",
       "    <tr>\n",
       "      <th>8</th>\n",
       "      <td>8.0000e-01</td>\n",
       "      <td>-9.4222e-01</td>\n",
       "      <td>-9.4222e-01</td>\n",
       "      <td>6.3127e-13</td>\n",
       "    </tr>\n",
       "    <tr>\n",
       "      <th>9</th>\n",
       "      <td>9.0000e-01</td>\n",
       "      <td>-9.7096e-01</td>\n",
       "      <td>-9.7096e-01</td>\n",
       "      <td>6.4093e-13</td>\n",
       "    </tr>\n",
       "    <tr>\n",
       "      <th>10</th>\n",
       "      <td>1.0000e+00</td>\n",
       "      <td>-9.8999e-01</td>\n",
       "      <td>-9.8999e-01</td>\n",
       "      <td>0.0000e+00</td>\n",
       "    </tr>\n",
       "  </tbody>\n",
       "</table>\n",
       "</div>"
      ],
      "text/plain": [
       "            x   u аналит.    u числ.   u числ.- u аналит.\n",
       "0  0.0000e+00 -4.1615e-01 -4.1615e-01          2.8227e-13\n",
       "1  1.0000e-01 -5.0485e-01 -5.0485e-01          3.2585e-13\n",
       "2  2.0000e-01 -5.8850e-01 -5.8850e-01          3.7115e-13\n",
       "3  3.0000e-01 -6.6628e-01 -6.6628e-01          4.3088e-13\n",
       "4  4.0000e-01 -7.3739e-01 -7.3739e-01          4.9283e-13\n",
       "5  5.0000e-01 -8.0114e-01 -8.0114e-01          5.2203e-13\n",
       "6  6.0000e-01 -8.5689e-01 -8.5689e-01          5.6466e-13\n",
       "7  7.0000e-01 -9.0407e-01 -9.0407e-01          6.0696e-13\n",
       "8  8.0000e-01 -9.4222e-01 -9.4222e-01          6.3127e-13\n",
       "9  9.0000e-01 -9.7096e-01 -9.7096e-01          6.4093e-13\n",
       "10 1.0000e+00 -9.8999e-01 -9.8999e-01          0.0000e+00"
      ]
     },
     "metadata": {},
     "output_type": "display_data"
    },
    {
     "name": "stdout",
     "output_type": "stream",
     "text": [
      "Максимальная норма ошибки = 6.409317521161029e-13\n"
     ]
    }
   ],
   "source": [
    "x,u1 = analytic_points(1)\n",
    "L = 1000; T = 1000\n",
    "u2 = solve(L,T)\n",
    "delta1 = []; \n",
    "for i in range(len(u1)):\n",
    "    delta1.append(abs(u1[i] - u2[i]))\n",
    "pd.options.display.float_format = \"{:.4e}\".format\n",
    "data = pd.DataFrame({\"x\": x, \"u аналит.\": u1, \"u числ. \": u2 ,\"u числ.- u аналит.\": delta1})\n",
    "display(data)\n",
    "print(\"Максимальная норма ошибки =\", max(delta1))"
   ]
  },
  {
   "cell_type": "markdown",
   "id": "a4ebba7e-8c9e-43b9-b908-3d2b4a7aa7b3",
   "metadata": {},
   "source": [
    "* ### Исследование на устойчивость"
   ]
  },
  {
   "cell_type": "code",
   "execution_count": 242,
   "id": "031edb61-bfd1-493f-9388-41b1935714bd",
   "metadata": {},
   "outputs": [],
   "source": [
    "def courant_num(L,T):\n",
    "    return L/T"
   ]
  },
  {
   "cell_type": "code",
   "execution_count": 251,
   "id": "b35a43e3-84e8-44e9-b1e7-4be4b88a18f2",
   "metadata": {},
   "outputs": [],
   "source": [
    "def check(deltas,pairs):   ### вычисление числа Куранта при котором ошибка начинает возрастать\n",
    "    for i in range(len(deltas)-1):\n",
    "        if deltas[i+1] > deltas[i]:\n",
    "            return courant_num(pairs[i+1][0],pairs[i+1][1]) "
   ]
  },
  {
   "cell_type": "code",
   "execution_count": 351,
   "id": "5f56e803-b5f4-4521-9f6c-94c91fca10c0",
   "metadata": {},
   "outputs": [],
   "source": [
    "L = 10**2; T1 = 10**5; T2 = 10**4; pairs1 = [[L,T1]]; pairs2 = [[L,T2]]\n",
    "while(courant_num(L,T1) <= 1):\n",
    "    T1 = T1/2; pairs1.append([L,T1])\n",
    "while(courant_num(L,T2) >= 0.001):\n",
    "    T2 = T2*2; pairs2.append([L,T2])"
   ]
  },
  {
   "cell_type": "code",
   "execution_count": 352,
   "id": "ab75c932-3706-4241-a108-10d8ddbd67ce",
   "metadata": {},
   "outputs": [],
   "source": [
    "x,u11 = analytic_points(1); deltas1 = []; deltas2 = []; delta1 = []; delta2 = []; courants1 = []; courants2 = []"
   ]
  },
  {
   "cell_type": "code",
   "execution_count": 353,
   "id": "9a60a3ed-cb32-4eb0-a727-cf3b4c1d8ce3",
   "metadata": {},
   "outputs": [],
   "source": [
    "for pair in pairs1:\n",
    "    courants1.append(courant_num(pair[0],pair[1]))\n",
    "    u21 = solve(int(pair[0]),int(pair[1]))\n",
    "    for i in range(0,len(u11)):\n",
    "        delta1.append(abs(u11[i] - u21[i]))\n",
    "    deltas1.append(max(delta1))"
   ]
  },
  {
   "cell_type": "code",
   "execution_count": 354,
   "id": "32cfda71-0144-4a0c-b4fc-73de755bb43f",
   "metadata": {},
   "outputs": [
    {
     "data": {
      "text/html": [
       "<div>\n",
       "<style scoped>\n",
       "    .dataframe tbody tr th:only-of-type {\n",
       "        vertical-align: middle;\n",
       "    }\n",
       "\n",
       "    .dataframe tbody tr th {\n",
       "        vertical-align: top;\n",
       "    }\n",
       "\n",
       "    .dataframe thead th {\n",
       "        text-align: right;\n",
       "    }\n",
       "</style>\n",
       "<table border=\"1\" class=\"dataframe\">\n",
       "  <thead>\n",
       "    <tr style=\"text-align: right;\">\n",
       "      <th></th>\n",
       "      <th>Число Куранта</th>\n",
       "      <th>Максимальная ошибка</th>\n",
       "    </tr>\n",
       "  </thead>\n",
       "  <tbody>\n",
       "    <tr>\n",
       "      <th>0</th>\n",
       "      <td>1.0000e-03</td>\n",
       "      <td>7.2509e-08</td>\n",
       "    </tr>\n",
       "    <tr>\n",
       "      <th>1</th>\n",
       "      <td>2.0000e-03</td>\n",
       "      <td>7.2509e-08</td>\n",
       "    </tr>\n",
       "    <tr>\n",
       "      <th>2</th>\n",
       "      <td>4.0000e-03</td>\n",
       "      <td>1.3638e-07</td>\n",
       "    </tr>\n",
       "    <tr>\n",
       "      <th>3</th>\n",
       "      <td>8.0000e-03</td>\n",
       "      <td>3.6989e-07</td>\n",
       "    </tr>\n",
       "    <tr>\n",
       "      <th>4</th>\n",
       "      <td>1.6000e-02</td>\n",
       "      <td>8.3133e-07</td>\n",
       "    </tr>\n",
       "    <tr>\n",
       "      <th>5</th>\n",
       "      <td>3.2000e-02</td>\n",
       "      <td>1.7319e-06</td>\n",
       "    </tr>\n",
       "    <tr>\n",
       "      <th>6</th>\n",
       "      <td>6.4000e-02</td>\n",
       "      <td>3.4450e-06</td>\n",
       "    </tr>\n",
       "    <tr>\n",
       "      <th>7</th>\n",
       "      <td>1.2800e-01</td>\n",
       "      <td>6.5124e-06</td>\n",
       "    </tr>\n",
       "    <tr>\n",
       "      <th>8</th>\n",
       "      <td>2.5600e-01</td>\n",
       "      <td>1.3124e-05</td>\n",
       "    </tr>\n",
       "    <tr>\n",
       "      <th>9</th>\n",
       "      <td>5.1200e-01</td>\n",
       "      <td>3.9243e+14</td>\n",
       "    </tr>\n",
       "    <tr>\n",
       "      <th>10</th>\n",
       "      <td>1.0240e+00</td>\n",
       "      <td>3.9243e+14</td>\n",
       "    </tr>\n",
       "  </tbody>\n",
       "</table>\n",
       "</div>"
      ],
      "text/plain": [
       "    Число Куранта  Максимальная ошибка\n",
       "0      1.0000e-03           7.2509e-08\n",
       "1      2.0000e-03           7.2509e-08\n",
       "2      4.0000e-03           1.3638e-07\n",
       "3      8.0000e-03           3.6989e-07\n",
       "4      1.6000e-02           8.3133e-07\n",
       "5      3.2000e-02           1.7319e-06\n",
       "6      6.4000e-02           3.4450e-06\n",
       "7      1.2800e-01           6.5124e-06\n",
       "8      2.5600e-01           1.3124e-05\n",
       "9      5.1200e-01           3.9243e+14\n",
       "10     1.0240e+00           3.9243e+14"
      ]
     },
     "metadata": {},
     "output_type": "display_data"
    },
    {
     "name": "stdout",
     "output_type": "stream",
     "text": [
      "Решение неустойчиво при числе Куранта =  0.004\n"
     ]
    }
   ],
   "source": [
    "df = pd.DataFrame({\"Число Куранта\": courants1, \"Максимальная ошибка\": deltas1})\n",
    "display(df)\n",
    "print(\"Решение неустойчиво при числе Куранта = \", check(deltas1,pairs1))"
   ]
  },
  {
   "cell_type": "code",
   "execution_count": null,
   "id": "a44bf1ef-aa6e-4b5b-82b0-79a0be8e6596",
   "metadata": {},
   "outputs": [],
   "source": []
  }
 ],
 "metadata": {
  "kernelspec": {
   "display_name": "Python 3 (ipykernel)",
   "language": "python",
   "name": "python3"
  },
  "language_info": {
   "codemirror_mode": {
    "name": "ipython",
    "version": 3
   },
   "file_extension": ".py",
   "mimetype": "text/x-python",
   "name": "python",
   "nbconvert_exporter": "python",
   "pygments_lexer": "ipython3",
   "version": "3.10.12"
  }
 },
 "nbformat": 4,
 "nbformat_minor": 5
}
