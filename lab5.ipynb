{
 "cells": [
  {
   "cell_type": "markdown",
   "id": "5201f431-c06d-4d91-a26a-62a2be593d32",
   "metadata": {},
   "source": [
    "# Лабораторная работа №5\n",
    "**Вариант №4**\\\n",
    "Решить задачу Дирихле для уравнения Пуассона методом установления с упорядоченным набором оптимальных чебышевских параметров с точнотью $\\left| \\dfrac{\\Delta u}{u} \\right|_1 \\leqslant 0,001$\\\n",
    "$\n",
    "\\begin{cases}\n",
    "    \\dfrac{\\partial^2 u}{\\partial x^2} + \\dfrac{\\partial^2 u}{\\partial y^2} = 2y(1-y)+ \\dfrac{1}{2}(1-4x^2)\\\\\n",
    "    u|_{\\Gamma} = 0    \n",
    "\\end{cases}\n",
    " -\\dfrac{1}{2} \\leqslant x \\leqslant \\dfrac{1}{2}, \n",
    "0 \\leqslant y \\leqslant 1\n",
    "$"
   ]
  },
  {
   "cell_type": "code",
   "execution_count": 179,
   "id": "c179d8b6-0128-4a0f-b0b1-0e17fd992000",
   "metadata": {},
   "outputs": [],
   "source": [
    "import math\n",
    "import numpy as np\n",
    "import pandas as pd"
   ]
  },
  {
   "cell_type": "markdown",
   "id": "3c6a9f28-1daa-416b-abb1-b55918535e4d",
   "metadata": {},
   "source": [
    "### Выбор шага - полиномы Чебышева"
   ]
  },
  {
   "cell_type": "code",
   "execution_count": 180,
   "id": "f8fa7bab-075c-4035-96e5-467c542b058b",
   "metadata": {},
   "outputs": [],
   "source": [
    "def find_sequence(N):\n",
    "    temp = N\n",
    "    seq = []; ind = []; flag = 0; count = 0\n",
    "    while N > 1:\n",
    "        if N % 2 == 0:\n",
    "            seq.append(N)\n",
    "            if (N/2) % 2 == 0:\n",
    "                flag = 0\n",
    "            if count == 1 and ind[-1] != 1:\n",
    "                flag = 1\n",
    "            ind.append(flag)\n",
    "            N = int(N/2)\n",
    "            flag = 0\n",
    "        if N % 2 != 0:\n",
    "            seq.append(N); ind.append(flag)\n",
    "            N = N - 1\n",
    "            flag = 1\n",
    "            count += 1\n",
    "    return seq, ind"
   ]
  },
  {
   "cell_type": "code",
   "execution_count": 181,
   "id": "c35aa745-0b73-4eed-b411-1b27e9f0eec8",
   "metadata": {},
   "outputs": [
    {
     "name": "stdout",
     "output_type": "stream",
     "text": [
      "[10, 5, 4, 2, 1]\n",
      "[0, 0, 1, 0, 0]\n"
     ]
    }
   ],
   "source": [
    "seq, ind = find_sequence(10)\n",
    "print(seq)\n",
    "print(ind)"
   ]
  },
  {
   "cell_type": "markdown",
   "id": "81b6e147-4a09-425d-847b-0c9b187b3d53",
   "metadata": {},
   "source": [
    "### Алгоритмы оптимизации"
   ]
  },
  {
   "cell_type": "code",
   "execution_count": 182,
   "id": "87d85eab-06e3-42e7-9be5-52b801fd399c",
   "metadata": {},
   "outputs": [],
   "source": [
    "def algorithm_1(arr,n):\n",
    "    new_arr = []\n",
    "    for el in arr:\n",
    "        new_arr.append(el)\n",
    "        new_arr.append(2*n - el)\n",
    "        # n -= 1\n",
    "    return new_arr"
   ]
  },
  {
   "cell_type": "code",
   "execution_count": 183,
   "id": "086171f3-d555-4424-b940-65c14d998eeb",
   "metadata": {},
   "outputs": [],
   "source": [
    "def algorithm_2(arr,n):\n",
    "    m = n//2\n",
    "    arr.append(4 * m + 1)\n",
    "    return arr"
   ]
  },
  {
   "cell_type": "code",
   "execution_count": 184,
   "id": "f1c8e56f-7216-4832-bdec-8c6b9c771158",
   "metadata": {},
   "outputs": [],
   "source": [
    "def algorithm_3(arr,n):\n",
    "    m = n//2\n",
    "    new_arr = []\n",
    "    for el in arr:\n",
    "        new_arr.append(el)\n",
    "        new_arr.append(4*m + 2 - el)\n",
    "    return new_arr"
   ]
  },
  {
   "cell_type": "code",
   "execution_count": 185,
   "id": "6a9f6fd5-3e13-4155-a4f0-f362bcd0f14b",
   "metadata": {},
   "outputs": [],
   "source": [
    "def algorithm_4(arr,n):\n",
    "    m = n//2\n",
    "    arr.append(2 * m + 1)\n",
    "    return arr"
   ]
  },
  {
   "cell_type": "code",
   "execution_count": 186,
   "id": "704765c5-6134-4293-8100-4a90e66f7ed5",
   "metadata": {},
   "outputs": [],
   "source": [
    "def find_step_sequence(N):\n",
    "    seq, ind = find_sequence(N)\n",
    "    seq = list(reversed(seq)); ind = list(reversed(ind))\n",
    "    arr = [1]; prev = 0\n",
    "    for i in range(1,len(seq)):\n",
    "        if seq[i] % 2 == 0 and ind[i] != 1:\n",
    "            arr = algorithm_1(arr,seq[i])\n",
    "            prev = 1\n",
    "        if seq[i] % 2 != 0 and ind[i] != 1 and prev != 3 and prev != 4:\n",
    "            arr = algorithm_2(arr,seq[i])\n",
    "            prev = 2\n",
    "        if seq[i] % 2 == 0 and ind[i] == 1:\n",
    "            arr = algorithm_3(arr,seq[i])\n",
    "            prev = 3\n",
    "        if prev == 3:\n",
    "            arr = algorithm_4(arr,seq[i])\n",
    "            prev = 4\n",
    "    return arr"
   ]
  },
  {
   "cell_type": "code",
   "execution_count": 187,
   "id": "2564fd92-63d9-410e-a386-011b6be717e5",
   "metadata": {},
   "outputs": [
    {
     "name": "stdout",
     "output_type": "stream",
     "text": [
      "[1, 19, 9, 11, 3, 17, 7, 13, 5, 15]\n"
     ]
    }
   ],
   "source": [
    "seq = find_step_sequence(10)\n",
    "print(seq)"
   ]
  },
  {
   "cell_type": "markdown",
   "id": "83d6222e-bffb-4fad-a527-7e06bc8bb6e5",
   "metadata": {},
   "source": [
    "### Вычисление шага"
   ]
  },
  {
   "cell_type": "code",
   "execution_count": 188,
   "id": "2f12860b-b3f6-402a-891f-4786e265a584",
   "metadata": {},
   "outputs": [],
   "source": [
    "def find_tau(sequence, K, L, N):\n",
    "    mju_max = 4*(K**2 + L**2)\n",
    "    mju_min = 2*math.pi**2\n",
    "    tau = []\n",
    "    tau_ = lambda n: 2/((mju_max+mju_min)+(mju_max-mju_min)*math.cos(math.pi*(2*n-1)/(2*N)))\n",
    "    for el in sequence:\n",
    "        n = (el + 1)/2\n",
    "        tau.append(tau_(n))\n",
    "    return tau"
   ]
  },
  {
   "cell_type": "markdown",
   "id": "a708822f-a96e-43f6-9d92-a5557fbb43d7",
   "metadata": {},
   "source": [
    "### Аналитическое решение"
   ]
  },
  {
   "cell_type": "code",
   "execution_count": 189,
   "id": "a7d94c51-d44f-4f98-a507-d0dcdc04e931",
   "metadata": {},
   "outputs": [],
   "source": [
    "def analytic_solution(x,y):\n",
    "    return (1 - y) * y* (x**2 - 1/4)"
   ]
  },
  {
   "cell_type": "code",
   "execution_count": 190,
   "id": "96d26f8c-fa8c-45ab-b204-193b57e25cff",
   "metadata": {},
   "outputs": [],
   "source": [
    "def analytic_points(n):\n",
    "        x = np.linspace(-1/2,1/2,n)\n",
    "        y = np.linspace(0,1,n)\n",
    "        u = np.zeros((n, n))\n",
    "        for j in range(len(y)):\n",
    "            for i in range(len(x)):\n",
    "                u[i][j] = analytic_solution(x[i],y[j])\n",
    "        return u"
   ]
  },
  {
   "cell_type": "markdown",
   "id": "a530e90f-52e1-4eda-8501-203a0f5799ec",
   "metadata": {},
   "source": [
    "### Численное решение"
   ]
  },
  {
   "cell_type": "code",
   "execution_count": 191,
   "id": "cdbb2514-51f0-47ae-ac0d-64df5bbcb9e3",
   "metadata": {},
   "outputs": [],
   "source": [
    "def solve(koef_x,koef_y, N):\n",
    "\n",
    "    L0 = 6\n",
    "    K = koef_x * (L0-1) + 1\n",
    "    L = koef_y * (L0-1) + 1\n",
    "    seq = find_step_sequence(N)\n",
    "    tau_list = find_tau(seq, K, L, N)\n",
    "    prev = np.zeros((K,L))\n",
    "    next = np.zeros((K,L))\n",
    "    x, h_x = np.linspace(-1/2, 1/2, K, retstep=True)\n",
    "    y, h_y = np.linspace(0, 1, L, retstep=True)\n",
    "    u_ = lambda tau, h_x, h_y, curr, next_x, prev_x, next_y, prev_y, f: curr + tau/(h_x**2) *  (next_x - 2*curr + prev_x) + tau/(h_y**2) *  (next_y - 2*curr + prev_y) - tau*f\n",
    "    \n",
    "    # for j in range(L):\n",
    "    #     for i in range(K):\n",
    "    #         prev[i][j] = analytic_solution(x[i],y[j])\n",
    "    \n",
    "    for t in range(N):\n",
    "        prev = next.copy()\n",
    "        tau = tau_list[t]\n",
    "        for i in range(1,K-1):\n",
    "            for j in range(1,L-1):\n",
    "                f = 2*y[j]*(1-y[j])+1/2*(1-4*x[i]**2)\n",
    "                next[i][j] = u_(tau,h_x,h_y,prev[i][j],prev[i+1][j],prev[i-1][j],prev[i][j+1],prev[i][j-1],f)\n",
    "\n",
    "    solutions = next[::koef_x,::koef_y]\n",
    "\n",
    "    print(\"Количество точек по x =\", K)\n",
    "    print(\"Количество точек по y =\", L)\n",
    "    print(\"N =\", N)\n",
    "    return solutions"
   ]
  },
  {
   "cell_type": "markdown",
   "id": "2327a3a7-534d-45e6-83ff-6d5cc2b19f8c",
   "metadata": {},
   "source": [
    "### Таблицы результатов"
   ]
  },
  {
   "cell_type": "code",
   "execution_count": 198,
   "id": "d4b1af28-31a9-42d0-af51-1676d56d066c",
   "metadata": {},
   "outputs": [
    {
     "name": "stdout",
     "output_type": "stream",
     "text": [
      "Количество точек по x = 6\n",
      "Количество точек по y = 6\n",
      "N = 10\n",
      "Первое число - аналитическое решение, второе - численное.\n"
     ]
    },
    {
     "data": {
      "text/html": [
       "<div>\n",
       "<style scoped>\n",
       "    .dataframe tbody tr th:only-of-type {\n",
       "        vertical-align: middle;\n",
       "    }\n",
       "\n",
       "    .dataframe tbody tr th {\n",
       "        vertical-align: top;\n",
       "    }\n",
       "\n",
       "    .dataframe thead th {\n",
       "        text-align: right;\n",
       "    }\n",
       "</style>\n",
       "<table border=\"1\" class=\"dataframe\">\n",
       "  <thead>\n",
       "    <tr style=\"text-align: right;\">\n",
       "      <th></th>\n",
       "      <th>y/x</th>\n",
       "      <th>-0.5</th>\n",
       "      <th>-0.3</th>\n",
       "      <th>-0.1</th>\n",
       "      <th>0.1</th>\n",
       "      <th>0.3</th>\n",
       "      <th>0.5</th>\n",
       "    </tr>\n",
       "  </thead>\n",
       "  <tbody>\n",
       "    <tr>\n",
       "      <th>0</th>\n",
       "      <td>0.0000e+00</td>\n",
       "      <td>0.0000e+00 | 0.0000e+00</td>\n",
       "      <td>0.0000e+00 | 0.0000e+00</td>\n",
       "      <td>0.0000e+00 | 0.0000e+00</td>\n",
       "      <td>0.0000e+00 | 0.0000e+00</td>\n",
       "      <td>0.0000e+00 | 0.0000e+00</td>\n",
       "      <td>0.0000e+00 | 0.0000e+00</td>\n",
       "    </tr>\n",
       "    <tr>\n",
       "      <th>1</th>\n",
       "      <td>2.0000e-01</td>\n",
       "      <td>-0.0000e+00 | 0.0000e+00</td>\n",
       "      <td>-2.5600e-02 | -2.5297e-02</td>\n",
       "      <td>-3.8400e-02 | -3.7883e-02</td>\n",
       "      <td>-3.8400e-02 | -3.7883e-02</td>\n",
       "      <td>-2.5600e-02 | -2.5297e-02</td>\n",
       "      <td>-0.0000e+00 | 0.0000e+00</td>\n",
       "    </tr>\n",
       "    <tr>\n",
       "      <th>2</th>\n",
       "      <td>4.0000e-01</td>\n",
       "      <td>-0.0000e+00 | 0.0000e+00</td>\n",
       "      <td>-3.8400e-02 | -3.7883e-02</td>\n",
       "      <td>-5.7600e-02 | -5.6719e-02</td>\n",
       "      <td>-5.7600e-02 | -5.6719e-02</td>\n",
       "      <td>-3.8400e-02 | -3.7883e-02</td>\n",
       "      <td>-0.0000e+00 | 0.0000e+00</td>\n",
       "    </tr>\n",
       "    <tr>\n",
       "      <th>3</th>\n",
       "      <td>6.0000e-01</td>\n",
       "      <td>-0.0000e+00 | 0.0000e+00</td>\n",
       "      <td>-3.8400e-02 | -3.7883e-02</td>\n",
       "      <td>-5.7600e-02 | -5.6719e-02</td>\n",
       "      <td>-5.7600e-02 | -5.6719e-02</td>\n",
       "      <td>-3.8400e-02 | -3.7883e-02</td>\n",
       "      <td>-0.0000e+00 | 0.0000e+00</td>\n",
       "    </tr>\n",
       "    <tr>\n",
       "      <th>4</th>\n",
       "      <td>8.0000e-01</td>\n",
       "      <td>-0.0000e+00 | 0.0000e+00</td>\n",
       "      <td>-2.5600e-02 | -2.5297e-02</td>\n",
       "      <td>-3.8400e-02 | -3.7883e-02</td>\n",
       "      <td>-3.8400e-02 | -3.7883e-02</td>\n",
       "      <td>-2.5600e-02 | -2.5297e-02</td>\n",
       "      <td>-0.0000e+00 | 0.0000e+00</td>\n",
       "    </tr>\n",
       "    <tr>\n",
       "      <th>5</th>\n",
       "      <td>1.0000e+00</td>\n",
       "      <td>0.0000e+00 | 0.0000e+00</td>\n",
       "      <td>0.0000e+00 | 0.0000e+00</td>\n",
       "      <td>0.0000e+00 | 0.0000e+00</td>\n",
       "      <td>0.0000e+00 | 0.0000e+00</td>\n",
       "      <td>0.0000e+00 | 0.0000e+00</td>\n",
       "      <td>0.0000e+00 | 0.0000e+00</td>\n",
       "    </tr>\n",
       "  </tbody>\n",
       "</table>\n",
       "</div>"
      ],
      "text/plain": [
       "         y/x                      -0.5                       -0.3  \\\n",
       "0 0.0000e+00   0.0000e+00 | 0.0000e+00    0.0000e+00 | 0.0000e+00   \n",
       "1 2.0000e-01  -0.0000e+00 | 0.0000e+00  -2.5600e-02 | -2.5297e-02   \n",
       "2 4.0000e-01  -0.0000e+00 | 0.0000e+00  -3.8400e-02 | -3.7883e-02   \n",
       "3 6.0000e-01  -0.0000e+00 | 0.0000e+00  -3.8400e-02 | -3.7883e-02   \n",
       "4 8.0000e-01  -0.0000e+00 | 0.0000e+00  -2.5600e-02 | -2.5297e-02   \n",
       "5 1.0000e+00   0.0000e+00 | 0.0000e+00    0.0000e+00 | 0.0000e+00   \n",
       "\n",
       "                        -0.1                        0.1  \\\n",
       "0    0.0000e+00 | 0.0000e+00    0.0000e+00 | 0.0000e+00   \n",
       "1  -3.8400e-02 | -3.7883e-02  -3.8400e-02 | -3.7883e-02   \n",
       "2  -5.7600e-02 | -5.6719e-02  -5.7600e-02 | -5.6719e-02   \n",
       "3  -5.7600e-02 | -5.6719e-02  -5.7600e-02 | -5.6719e-02   \n",
       "4  -3.8400e-02 | -3.7883e-02  -3.8400e-02 | -3.7883e-02   \n",
       "5    0.0000e+00 | 0.0000e+00    0.0000e+00 | 0.0000e+00   \n",
       "\n",
       "                         0.3                       0.5  \n",
       "0    0.0000e+00 | 0.0000e+00   0.0000e+00 | 0.0000e+00  \n",
       "1  -2.5600e-02 | -2.5297e-02  -0.0000e+00 | 0.0000e+00  \n",
       "2  -3.8400e-02 | -3.7883e-02  -0.0000e+00 | 0.0000e+00  \n",
       "3  -3.8400e-02 | -3.7883e-02  -0.0000e+00 | 0.0000e+00  \n",
       "4  -2.5600e-02 | -2.5297e-02  -0.0000e+00 | 0.0000e+00  \n",
       "5    0.0000e+00 | 0.0000e+00   0.0000e+00 | 0.0000e+00  "
      ]
     },
     "metadata": {},
     "output_type": "display_data"
    },
    {
     "name": "stdout",
     "output_type": "stream",
     "text": [
      "Максимальная норма ошибки = 8.8085e-04\n"
     ]
    },
    {
     "data": {
      "text/html": [
       "<div>\n",
       "<style scoped>\n",
       "    .dataframe tbody tr th:only-of-type {\n",
       "        vertical-align: middle;\n",
       "    }\n",
       "\n",
       "    .dataframe tbody tr th {\n",
       "        vertical-align: top;\n",
       "    }\n",
       "\n",
       "    .dataframe thead th {\n",
       "        text-align: right;\n",
       "    }\n",
       "</style>\n",
       "<table border=\"1\" class=\"dataframe\">\n",
       "  <thead>\n",
       "    <tr style=\"text-align: right;\">\n",
       "      <th></th>\n",
       "      <th>y/x</th>\n",
       "      <th>-0.5</th>\n",
       "      <th>-0.3</th>\n",
       "      <th>-0.1</th>\n",
       "      <th>0.1</th>\n",
       "      <th>0.3</th>\n",
       "      <th>0.5</th>\n",
       "    </tr>\n",
       "  </thead>\n",
       "  <tbody>\n",
       "    <tr>\n",
       "      <th>0</th>\n",
       "      <td>0.0000e+00</td>\n",
       "      <td>0.0000e+00</td>\n",
       "      <td>0.0000e+00</td>\n",
       "      <td>0.0000e+00</td>\n",
       "      <td>0.0000e+00</td>\n",
       "      <td>0.0000e+00</td>\n",
       "      <td>0.0000e+00</td>\n",
       "    </tr>\n",
       "    <tr>\n",
       "      <th>1</th>\n",
       "      <td>2.0000e-01</td>\n",
       "      <td>0.0000e+00</td>\n",
       "      <td>3.0331e-04</td>\n",
       "      <td>5.1742e-04</td>\n",
       "      <td>5.1742e-04</td>\n",
       "      <td>3.0331e-04</td>\n",
       "      <td>0.0000e+00</td>\n",
       "    </tr>\n",
       "    <tr>\n",
       "      <th>2</th>\n",
       "      <td>4.0000e-01</td>\n",
       "      <td>0.0000e+00</td>\n",
       "      <td>5.1742e-04</td>\n",
       "      <td>8.8085e-04</td>\n",
       "      <td>8.8085e-04</td>\n",
       "      <td>5.1742e-04</td>\n",
       "      <td>0.0000e+00</td>\n",
       "    </tr>\n",
       "    <tr>\n",
       "      <th>3</th>\n",
       "      <td>6.0000e-01</td>\n",
       "      <td>0.0000e+00</td>\n",
       "      <td>5.1742e-04</td>\n",
       "      <td>8.8085e-04</td>\n",
       "      <td>8.8085e-04</td>\n",
       "      <td>5.1742e-04</td>\n",
       "      <td>0.0000e+00</td>\n",
       "    </tr>\n",
       "    <tr>\n",
       "      <th>4</th>\n",
       "      <td>8.0000e-01</td>\n",
       "      <td>0.0000e+00</td>\n",
       "      <td>3.0331e-04</td>\n",
       "      <td>5.1742e-04</td>\n",
       "      <td>5.1742e-04</td>\n",
       "      <td>3.0331e-04</td>\n",
       "      <td>0.0000e+00</td>\n",
       "    </tr>\n",
       "    <tr>\n",
       "      <th>5</th>\n",
       "      <td>1.0000e+00</td>\n",
       "      <td>0.0000e+00</td>\n",
       "      <td>0.0000e+00</td>\n",
       "      <td>0.0000e+00</td>\n",
       "      <td>0.0000e+00</td>\n",
       "      <td>0.0000e+00</td>\n",
       "      <td>0.0000e+00</td>\n",
       "    </tr>\n",
       "  </tbody>\n",
       "</table>\n",
       "</div>"
      ],
      "text/plain": [
       "         y/x       -0.5       -0.3       -0.1        0.1        0.3        0.5\n",
       "0 0.0000e+00 0.0000e+00 0.0000e+00 0.0000e+00 0.0000e+00 0.0000e+00 0.0000e+00\n",
       "1 2.0000e-01 0.0000e+00 3.0331e-04 5.1742e-04 5.1742e-04 3.0331e-04 0.0000e+00\n",
       "2 4.0000e-01 0.0000e+00 5.1742e-04 8.8085e-04 8.8085e-04 5.1742e-04 0.0000e+00\n",
       "3 6.0000e-01 0.0000e+00 5.1742e-04 8.8085e-04 8.8085e-04 5.1742e-04 0.0000e+00\n",
       "4 8.0000e-01 0.0000e+00 3.0331e-04 5.1742e-04 5.1742e-04 3.0331e-04 0.0000e+00\n",
       "5 1.0000e+00 0.0000e+00 0.0000e+00 0.0000e+00 0.0000e+00 0.0000e+00 0.0000e+00"
      ]
     },
     "metadata": {},
     "output_type": "display_data"
    }
   ],
   "source": [
    "u1 = analytic_points(6)\n",
    "u1_df = pd.DataFrame(u1)\n",
    "\n",
    "\n",
    "N = 10\n",
    "k_x = 1\n",
    "k_y = 1\n",
    "\n",
    "x_grid = np.linspace(-1/2,1/2,6)\n",
    "x_grid = np.round(x_grid, 2)\n",
    "y_grid = np.linspace(0,1,6)\n",
    "\n",
    "u2 = solve(k_x,k_y,N)\n",
    "u2_df = pd.DataFrame(u2)\n",
    "\n",
    "delta = np.zeros((6,6))\n",
    "for j in range(6):\n",
    "        for i in range(6):\n",
    "            delta[i][j] = \"{:.4e}\".format(abs(u1[i][j] - u2[i][j]))\n",
    "\n",
    "\n",
    "u = np.zeros((6,6))\n",
    "u = u.astype(str)\n",
    "for j in range(6):\n",
    "    for i in range(6):\n",
    "        u[i][j] = str(\"{:.4e}\".format(u1[i][j])) + \" | \" + str(\"{:.4e}\".format(u2[i][j]))\n",
    "        \n",
    "u = pd.DataFrame(u)\n",
    "u_df = pd.DataFrame({**{\"y/x\": y_grid}, **{x_grid[i]:u[i] for i in range(6)}})\n",
    "print(\"Первое число - аналитическое решение, второе - численное.\")\n",
    "display(u_df)\n",
    "\n",
    "print(\"Максимальная норма ошибки =\", \"{:.4e}\".format((max(map(max, delta)))))\n",
    "delta_df = pd.DataFrame({**{\"y/x\": y_grid}, **{x_grid[i]:delta[i] for i in range(6)}})\n",
    "display(delta_df)"
   ]
  },
  {
   "cell_type": "code",
   "execution_count": null,
   "id": "f76b4a1c-f8e7-4df9-8e70-716d26de7de1",
   "metadata": {},
   "outputs": [],
   "source": []
  }
 ],
 "metadata": {
  "kernelspec": {
   "display_name": "Python 3 (ipykernel)",
   "language": "python",
   "name": "python3"
  },
  "language_info": {
   "codemirror_mode": {
    "name": "ipython",
    "version": 3
   },
   "file_extension": ".py",
   "mimetype": "text/x-python",
   "name": "python",
   "nbconvert_exporter": "python",
   "pygments_lexer": "ipython3",
   "version": "3.10.12"
  }
 },
 "nbformat": 4,
 "nbformat_minor": 5
}
