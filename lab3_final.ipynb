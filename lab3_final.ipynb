{
 "cells": [
  {
   "cell_type": "code",
   "execution_count": 88,
   "id": "3e23d255-25bd-4b2d-baea-7bf7ad1cd623",
   "metadata": {},
   "outputs": [],
   "source": [
    "import numpy as np\n",
    "import matplotlib.pyplot as plt\n",
    "import math"
   ]
  },
  {
   "cell_type": "markdown",
   "id": "9616087a-cf3a-4876-84c7-ec3f37680151",
   "metadata": {},
   "source": [
    "* ### 5 ти-диагональная прогонка"
   ]
  },
  {
   "cell_type": "code",
   "execution_count": 89,
   "id": "c888b725-7751-463f-b1c3-7d9968b96430",
   "metadata": {},
   "outputs": [],
   "source": [
    "def five_diag_progonka(lamb,n):\n",
    "    L = n - 1\n",
    "    h = 1/(L-2)\n",
    "    grid = np.linspace(-h, 1 + h, n)\n",
    "    alpha = np.zeros(n); beta = np.zeros(n)\n",
    "    alpha[2] = (-2 + 2 * h) / (-2 * lamb * h ** 2 - 6 * h + 14)\n",
    "    beta[2]  = -(lamb * h ** 2 + 6 * h - 8) / (-2 * lamb * h ** 2 - 6 * h + 14)\n",
    "    alpha[3] = -(2 - 3 * h) / (12 - 12 * h - 2 * lamb * h ** 2 + beta[2] * (lamb * h ** 2 + 6 * h - 8))\n",
    "    beta[3]  = -(lamb * h ** 2 + 10 * h - 8 + alpha[2] * (lamb * h ** 2 + 6 * h - 8)) / (12 - 12 * h - 2 * lamb * h ** 2 + beta[2] * (lamb * h ** 2 + 6 * h - 8))\n",
    "\n",
    "    for i in range(4, L - 2, 1):\n",
    "        xl = grid[i]\n",
    "        a = 2 - xl - h\n",
    "        b = lamb * h ** 2 - 4 * (2 - xl) + 2 * h\n",
    "        c = 6 * (2 - xl) - 2 * lamb * h ** 2\n",
    "        d = lamb * h ** 2 - 4 * (2 - xl) - 2 * h\n",
    "        e = 2 - xl + h\n",
    "        Al = c + d * beta[i - 1] + e * alpha[i - 2] + e * beta[i - 2] * beta[i - 1]\n",
    "        alpha[i] = -a / Al\n",
    "        beta[i] = -(b + d * alpha[i - 1] + e * beta[i - 2] * alpha[i - 1]) / Al\n",
    "\n",
    "    a = 5 + 6 * h - 2 * lamb * h ** 2\n",
    "    b = lamb * h ** 2 - 6 * h - 4\n",
    "    c = 1 + 2 * h\n",
    "    B = a + b * beta[L - 3] + c * (alpha[L - 4] + beta[L - 4] * beta[L - 3])\n",
    "\n",
    "    return B"
   ]
  },
  {
   "cell_type": "markdown",
   "id": "8ddac959-5248-426c-b87d-60268bcf66a8",
   "metadata": {},
   "source": [
    "* ### Метод деления пополам "
   ]
  },
  {
   "cell_type": "code",
   "execution_count": 90,
   "id": "5a8fcdb5-b722-4706-bdf5-20222151ff15",
   "metadata": {},
   "outputs": [],
   "source": [
    "def bisection_method(a, b, tol, n):\n",
    "    if five_diag_progonka(a,n) * five_diag_progonka(b,n) >= 0:\n",
    "        return None\n",
    "    while (b - a) / 2 > tol:\n",
    "        mid = (a + b) / 2\n",
    "        if five_diag_progonka(mid,n) == 0:\n",
    "            return mid\n",
    "        elif five_diag_progonka(a,n)  * five_diag_progonka(mid, n) < 0:\n",
    "            b = mid\n",
    "        else:\n",
    "            a = mid\n",
    "    return (a + b) / 2"
   ]
  },
  {
   "cell_type": "markdown",
   "id": "68d03cbe-2066-4686-8691-9cb86f3cd17b",
   "metadata": {},
   "source": [
    "* ### Находим интервалы где B меняет знак и собственные числа"
   ]
  },
  {
   "cell_type": "code",
   "execution_count": 91,
   "id": "efa9faad-9f1a-4374-8dab-4dd16c9284ef",
   "metadata": {},
   "outputs": [],
   "source": [
    "def find_intervals(n):\n",
    "    h = 1\n",
    "    intervals = []\n",
    "    j = h ; t = 0\n",
    "    while(len(intervals) != 4):\n",
    "        if five_diag_progonka(t,n) * five_diag_progonka(j,n) <= 0:\n",
    "            print(\"B = {}\".format(five_diag_progonka(t,n)),\"lambda = \", t)\n",
    "            print(\"B = {}\".format(five_diag_progonka(j,n)),\"lambda = \", j)\n",
    "            intervals.append([t,j])\n",
    "            t = j; j += h\n",
    "        else:\n",
    "            t+= h; j+= h\n",
    "    return intervals"
   ]
  },
  {
   "cell_type": "code",
   "execution_count": 92,
   "id": "65b993da-9192-42e5-bac9-969fb8726628",
   "metadata": {},
   "outputs": [],
   "source": [
    "n = 10241; tol = 10**(-4)"
   ]
  },
  {
   "cell_type": "code",
   "execution_count": 93,
   "id": "4813feb9-ea44-4855-a83f-73e6fba60657",
   "metadata": {},
   "outputs": [
    {
     "name": "stdout",
     "output_type": "stream",
     "text": [
      "B = 5.3643806894321244e-06 lambda =  29\n",
      "B = -1.4102339223054372e-05 lambda =  30\n",
      "B = -0.03278179666341474 lambda =  57\n",
      "B = 0.022906746387914456 lambda =  58\n",
      "B = 5.123266202611276e-05 lambda =  86\n",
      "B = -5.479321951717964e-07 lambda =  87\n",
      "B = -0.0414592477223219 lambda =  117\n",
      "B = 0.10522277453367357 lambda =  118\n",
      "Интервалы: [[29, 30], [57, 58], [86, 87], [117, 118]]\n"
     ]
    }
   ],
   "source": [
    "intervals = find_intervals(n)\n",
    "print(\"Интервалы: {}\".format(intervals))"
   ]
  },
  {
   "cell_type": "code",
   "execution_count": 94,
   "id": "19dc2d23-646e-4ef9-852d-fd7549016353",
   "metadata": {},
   "outputs": [],
   "source": [
    "lambdas = []\n",
    "for interval in intervals:\n",
    "    lamb = bisection_method(interval[0], interval[1], tol, n)\n",
    "    lambdas.append(lamb)"
   ]
  },
  {
   "cell_type": "code",
   "execution_count": 95,
   "id": "89e8d28d-3db3-4d56-a3c8-513af0facd44",
   "metadata": {},
   "outputs": [
    {
     "name": "stdout",
     "output_type": "stream",
     "text": [
      "Собствение значения: [29.43743896484375, 57.41412353515625, 86.99163818359375, 117.71075439453125]\n"
     ]
    }
   ],
   "source": [
    "print(\"Собствение значения: {}\".format(lambdas))"
   ]
  },
  {
   "cell_type": "code",
   "execution_count": null,
   "id": "29cc240b-df85-41ad-83e4-b66f6d67715b",
   "metadata": {},
   "outputs": [],
   "source": []
  },
  {
   "cell_type": "code",
   "execution_count": null,
   "id": "b4616870-8823-437e-9196-3a20da4d42ab",
   "metadata": {},
   "outputs": [],
   "source": []
  }
 ],
 "metadata": {
  "kernelspec": {
   "display_name": "Python 3 (ipykernel)",
   "language": "python",
   "name": "python3"
  },
  "language_info": {
   "codemirror_mode": {
    "name": "ipython",
    "version": 3
   },
   "file_extension": ".py",
   "mimetype": "text/x-python",
   "name": "python",
   "nbconvert_exporter": "python",
   "pygments_lexer": "ipython3",
   "version": "3.10.12"
  }
 },
 "nbformat": 4,
 "nbformat_minor": 5
}
